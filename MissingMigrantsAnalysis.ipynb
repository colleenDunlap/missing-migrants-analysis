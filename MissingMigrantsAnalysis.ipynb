{
  "nbformat": 4,
  "nbformat_minor": 0,
  "metadata": {
    "colab": {
      "name": "MissingMigrantsAnalysis.ipynb",
      "provenance": [],
      "collapsed_sections": []
    },
    "kernelspec": {
      "name": "python3",
      "display_name": "Python 3"
    }
  },
  "cells": [
    {
      "cell_type": "markdown",
      "metadata": {
        "id": "Ag3uRzrpGShX",
        "colab_type": "text"
      },
      "source": [
        "# Missing Migrants Analysis\n",
        "### Colleen Dunlap\n",
        "This notebook takes information from the Missing Migrants Dataset to predict the severity of incidents during migration, in terms of death toll and number of missing migrants.  My hope is that the insights from this project will advise Humanitarian Organizations and help them better mobilize to prevent migrant loss.\n",
        "\n",
        "The dataset for this project was pulled from Kaggle at https://www.kaggle.com/snocco/missing-migrants-project \n",
        "\n",
        "For more information on the Missing Migrants Project, please visit \n",
        "https://missingmigrants.iom.int/ "
      ]
    },
    {
      "cell_type": "code",
      "metadata": {
        "id": "9Y4Vi3Yu6CPj",
        "colab_type": "code",
        "colab": {}
      },
      "source": [
        "# import our necessary packages and tools\n",
        "import pandas as pd\n",
        "import numpy as np\n",
        "import matplotlib.pyplot as plt\n",
        "from keras.models import Sequential\n",
        "from keras.layers import Dense\n",
        "from google.colab import drive\n",
        "from datetime import datetime \n",
        "import seaborn as sns\n",
        "from scipy import stats\n",
        "\n"
      ],
      "execution_count": 0,
      "outputs": []
    },
    {
      "cell_type": "code",
      "metadata": {
        "id": "pukwpPwu66cs",
        "colab_type": "code",
        "outputId": "59ca0cff-4ac1-49e3-b196-5b7c8cf1d85a",
        "colab": {
          "base_uri": "https://localhost:8080/",
          "height": 128
        }
      },
      "source": [
        "#comment out if NOT using Google CoLab\n",
        "drive.mount('/content/drive/')"
      ],
      "execution_count": 4,
      "outputs": [
        {
          "output_type": "stream",
          "text": [
            "Go to this URL in a browser: https://accounts.google.com/o/oauth2/auth?client_id=947318989803-6bn6qk8qdgf4n4g3pfee6491hc0brc4i.apps.googleusercontent.com&redirect_uri=urn%3aietf%3awg%3aoauth%3a2.0%3aoob&response_type=code&scope=email%20https%3a%2f%2fwww.googleapis.com%2fauth%2fdocs.test%20https%3a%2f%2fwww.googleapis.com%2fauth%2fdrive%20https%3a%2f%2fwww.googleapis.com%2fauth%2fdrive.photos.readonly%20https%3a%2f%2fwww.googleapis.com%2fauth%2fpeopleapi.readonly\n",
            "\n",
            "Enter your authorization code:\n",
            "··········\n",
            "Mounted at /content/drive/\n"
          ],
          "name": "stdout"
        }
      ]
    },
    {
      "cell_type": "markdown",
      "metadata": {
        "id": "WFlH9O44HFM1",
        "colab_type": "text"
      },
      "source": [
        "### Import the Missing Migrants dataset (.csv file) and store in a dataframe"
      ]
    },
    {
      "cell_type": "code",
      "metadata": {
        "id": "IykjGxM37SPS",
        "colab_type": "code",
        "colab": {
          "base_uri": "https://localhost:8080/",
          "height": 1000
        },
        "outputId": "6a2e38f5-4374-4b68-b5ff-b694c91d9fb5"
      },
      "source": [
        "#we have 5,332 records.  Not quite a huge dataset, but definitely enough to explore and notice some trends\n",
        "#change filepath as necessary\n",
        "df = pd.read_csv('/content/drive/My Drive/Colab Notebooks/MissingMigrants.csv')\n",
        "df.head(10)\n",
        "#df.iloc[:,0]\n"
      ],
      "execution_count": 5,
      "outputs": [
        {
          "output_type": "execute_result",
          "data": {
            "text/html": [
              "<div>\n",
              "<style scoped>\n",
              "    .dataframe tbody tr th:only-of-type {\n",
              "        vertical-align: middle;\n",
              "    }\n",
              "\n",
              "    .dataframe tbody tr th {\n",
              "        vertical-align: top;\n",
              "    }\n",
              "\n",
              "    .dataframe thead th {\n",
              "        text-align: right;\n",
              "    }\n",
              "</style>\n",
              "<table border=\"1\" class=\"dataframe\">\n",
              "  <thead>\n",
              "    <tr style=\"text-align: right;\">\n",
              "      <th></th>\n",
              "      <th>Web ID</th>\n",
              "      <th>Region of Incident</th>\n",
              "      <th>Reported Date</th>\n",
              "      <th>Reported Year</th>\n",
              "      <th>Reported Month</th>\n",
              "      <th>Number Dead</th>\n",
              "      <th>Minimum Estimated Number of Missing</th>\n",
              "      <th>Total Dead and Missing</th>\n",
              "      <th>Number of Survivors</th>\n",
              "      <th>Number of Females</th>\n",
              "      <th>Number of Males</th>\n",
              "      <th>Number of Children</th>\n",
              "      <th>Cause of Death</th>\n",
              "      <th>Location Description</th>\n",
              "      <th>Information Source</th>\n",
              "      <th>Location Coordinates</th>\n",
              "      <th>Migration Route</th>\n",
              "      <th>URL</th>\n",
              "      <th>UNSD Geographical Grouping</th>\n",
              "      <th>Source Quality</th>\n",
              "    </tr>\n",
              "  </thead>\n",
              "  <tbody>\n",
              "    <tr>\n",
              "      <th>0</th>\n",
              "      <td>51591</td>\n",
              "      <td>Mediterranean</td>\n",
              "      <td>March 28, 2019</td>\n",
              "      <td>2019</td>\n",
              "      <td>Mar</td>\n",
              "      <td>NaN</td>\n",
              "      <td>2.0</td>\n",
              "      <td>2</td>\n",
              "      <td>36.0</td>\n",
              "      <td>NaN</td>\n",
              "      <td>2.0</td>\n",
              "      <td>NaN</td>\n",
              "      <td>Presumed drowning</td>\n",
              "      <td>Off the coast of Chios, Greece</td>\n",
              "      <td>Hellenic Coast Guard via IOM Greece</td>\n",
              "      <td>38.362368696592, 26.172509473654</td>\n",
              "      <td>Eastern Mediterranean</td>\n",
              "      <td>NaN</td>\n",
              "      <td>Uncategorized</td>\n",
              "      <td>5</td>\n",
              "    </tr>\n",
              "    <tr>\n",
              "      <th>1</th>\n",
              "      <td>51588</td>\n",
              "      <td>Mediterranean</td>\n",
              "      <td>March 26, 2019</td>\n",
              "      <td>2019</td>\n",
              "      <td>Mar</td>\n",
              "      <td>4.0</td>\n",
              "      <td>NaN</td>\n",
              "      <td>4</td>\n",
              "      <td>11.0</td>\n",
              "      <td>3.0</td>\n",
              "      <td>NaN</td>\n",
              "      <td>1.0</td>\n",
              "      <td>Presumed drowning</td>\n",
              "      <td>Off the coast of Ayvacık district, Çanakkale p...</td>\n",
              "      <td>Turkish Coast Guard via IOM Turkey</td>\n",
              "      <td>39.441975591614, 26.378816195919</td>\n",
              "      <td>Eastern Mediterranean</td>\n",
              "      <td>http://bit.ly/2YmiPAN</td>\n",
              "      <td>Uncategorized</td>\n",
              "      <td>5</td>\n",
              "    </tr>\n",
              "    <tr>\n",
              "      <th>2</th>\n",
              "      <td>51589</td>\n",
              "      <td>Mediterranean</td>\n",
              "      <td>March 26, 2019</td>\n",
              "      <td>2019</td>\n",
              "      <td>Mar</td>\n",
              "      <td>1.0</td>\n",
              "      <td>NaN</td>\n",
              "      <td>1</td>\n",
              "      <td>NaN</td>\n",
              "      <td>NaN</td>\n",
              "      <td>NaN</td>\n",
              "      <td>NaN</td>\n",
              "      <td>Presumed drowning</td>\n",
              "      <td>Body recovered on Playa del Tarajal, Ceuta, Sp...</td>\n",
              "      <td>Ceuta al día, El Pueblo de Ceuta</td>\n",
              "      <td>35.871901875921, -5.343037665842</td>\n",
              "      <td>Western Mediterranean</td>\n",
              "      <td>http://bit.ly/2uyj7qO, http://bit.ly/2uwj5zC</td>\n",
              "      <td>Uncategorized</td>\n",
              "      <td>3</td>\n",
              "    </tr>\n",
              "    <tr>\n",
              "      <th>3</th>\n",
              "      <td>51590</td>\n",
              "      <td>Mediterranean</td>\n",
              "      <td>March 26, 2019</td>\n",
              "      <td>2019</td>\n",
              "      <td>Mar</td>\n",
              "      <td>1.0</td>\n",
              "      <td>NaN</td>\n",
              "      <td>1</td>\n",
              "      <td>NaN</td>\n",
              "      <td>NaN</td>\n",
              "      <td>NaN</td>\n",
              "      <td>NaN</td>\n",
              "      <td>Presumed drowning</td>\n",
              "      <td>Body recovered on beach near Tetouan, Morocco ...</td>\n",
              "      <td>El Pueblo de Ceuta</td>\n",
              "      <td>35.635115912988, -5.275650103548</td>\n",
              "      <td>Western Mediterranean</td>\n",
              "      <td>http://bit.ly/2uwj5zC</td>\n",
              "      <td>Uncategorized</td>\n",
              "      <td>1</td>\n",
              "    </tr>\n",
              "    <tr>\n",
              "      <th>4</th>\n",
              "      <td>51587</td>\n",
              "      <td>Central America</td>\n",
              "      <td>March 25, 2019</td>\n",
              "      <td>2019</td>\n",
              "      <td>Mar</td>\n",
              "      <td>1.0</td>\n",
              "      <td>NaN</td>\n",
              "      <td>1</td>\n",
              "      <td>NaN</td>\n",
              "      <td>NaN</td>\n",
              "      <td>1.0</td>\n",
              "      <td>NaN</td>\n",
              "      <td>Fall from train</td>\n",
              "      <td>Train tracks in Teacalco, Tlaxcala, Mexico</td>\n",
              "      <td>Megalópolis, Línea de contraste</td>\n",
              "      <td>19.334475177429, -98.069823987538</td>\n",
              "      <td>NaN</td>\n",
              "      <td>http://bit.ly/2uvDIvH, http://bit.ly/2TXAFLS</td>\n",
              "      <td>Central America</td>\n",
              "      <td>3</td>\n",
              "    </tr>\n",
              "    <tr>\n",
              "      <th>5</th>\n",
              "      <td>51580</td>\n",
              "      <td>US-Mexico Border</td>\n",
              "      <td>March 23, 2019</td>\n",
              "      <td>2019</td>\n",
              "      <td>Mar</td>\n",
              "      <td>1.0</td>\n",
              "      <td>NaN</td>\n",
              "      <td>1</td>\n",
              "      <td>NaN</td>\n",
              "      <td>NaN</td>\n",
              "      <td>NaN</td>\n",
              "      <td>NaN</td>\n",
              "      <td>Unknown (skeletal remains)</td>\n",
              "      <td>Pima County jurisdiction, Arizona, USA</td>\n",
              "      <td>Pima County Office of the Medical Examiner</td>\n",
              "      <td>32.057499000000, -111.666072500000</td>\n",
              "      <td>NaN</td>\n",
              "      <td>http://www.humaneborders.info/</td>\n",
              "      <td>Northern America</td>\n",
              "      <td>5</td>\n",
              "    </tr>\n",
              "    <tr>\n",
              "      <th>6</th>\n",
              "      <td>51581</td>\n",
              "      <td>US-Mexico Border</td>\n",
              "      <td>March 23, 2019</td>\n",
              "      <td>2019</td>\n",
              "      <td>Mar</td>\n",
              "      <td>1.0</td>\n",
              "      <td>NaN</td>\n",
              "      <td>1</td>\n",
              "      <td>NaN</td>\n",
              "      <td>NaN</td>\n",
              "      <td>NaN</td>\n",
              "      <td>NaN</td>\n",
              "      <td>Unknown (skeletal remains)</td>\n",
              "      <td>Pima County jurisdiction, Arizona, USA</td>\n",
              "      <td>Pima County Office of the Medical Examiner</td>\n",
              "      <td>32.057499000000, -111.666072500000</td>\n",
              "      <td>NaN</td>\n",
              "      <td>http://www.humaneborders.info/</td>\n",
              "      <td>Northern America</td>\n",
              "      <td>5</td>\n",
              "    </tr>\n",
              "    <tr>\n",
              "      <th>7</th>\n",
              "      <td>51585</td>\n",
              "      <td>Southeast Asia</td>\n",
              "      <td>March 23, 2019</td>\n",
              "      <td>2019</td>\n",
              "      <td>Mar</td>\n",
              "      <td>8.0</td>\n",
              "      <td>2.0</td>\n",
              "      <td>10</td>\n",
              "      <td>NaN</td>\n",
              "      <td>1.0</td>\n",
              "      <td>NaN</td>\n",
              "      <td>NaN</td>\n",
              "      <td>Vehicle Accident</td>\n",
              "      <td>Sa Setthi intersection in Tambon Ban Mai, Tha ...</td>\n",
              "      <td>The Nation, Vietnam+</td>\n",
              "      <td>13.865704814542, 99.587248723929</td>\n",
              "      <td>NaN</td>\n",
              "      <td>http://bit.ly/2YqrMsT, http://bit.ly/2TzbavA</td>\n",
              "      <td>South-eastern Asia</td>\n",
              "      <td>3</td>\n",
              "    </tr>\n",
              "    <tr>\n",
              "      <th>8</th>\n",
              "      <td>51586</td>\n",
              "      <td>Mediterranean</td>\n",
              "      <td>March 23, 2019</td>\n",
              "      <td>2019</td>\n",
              "      <td>Mar</td>\n",
              "      <td>4.0</td>\n",
              "      <td>4.0</td>\n",
              "      <td>8</td>\n",
              "      <td>NaN</td>\n",
              "      <td>3.0</td>\n",
              "      <td>5.0</td>\n",
              "      <td>NaN</td>\n",
              "      <td>Presumed drowning</td>\n",
              "      <td>Off the coast of Sfax, Tunisia</td>\n",
              "      <td>Shems FM, Tunisie Numérique, Kapitalis</td>\n",
              "      <td>35.317034468315, 11.078928258810</td>\n",
              "      <td>Central Mediterranean</td>\n",
              "      <td>http://bit.ly/2U1K4C4, http://bit.ly/2HJW70B, ...</td>\n",
              "      <td>Uncategorized</td>\n",
              "      <td>3</td>\n",
              "    </tr>\n",
              "    <tr>\n",
              "      <th>9</th>\n",
              "      <td>51578</td>\n",
              "      <td>US-Mexico Border</td>\n",
              "      <td>March 21, 2019</td>\n",
              "      <td>2019</td>\n",
              "      <td>Mar</td>\n",
              "      <td>1.0</td>\n",
              "      <td>NaN</td>\n",
              "      <td>1</td>\n",
              "      <td>NaN</td>\n",
              "      <td>NaN</td>\n",
              "      <td>NaN</td>\n",
              "      <td>NaN</td>\n",
              "      <td>Unknown (skeletal remains)</td>\n",
              "      <td>Pima County jurisdiction, Arizona, USA</td>\n",
              "      <td>Pima County Office of the Medical Examiner</td>\n",
              "      <td>32.057499000000, -111.666072500000</td>\n",
              "      <td>NaN</td>\n",
              "      <td>http://www.humaneborders.info/</td>\n",
              "      <td>Northern America</td>\n",
              "      <td>5</td>\n",
              "    </tr>\n",
              "  </tbody>\n",
              "</table>\n",
              "</div>"
            ],
            "text/plain": [
              "   Web ID Region of Incident  ... UNSD Geographical Grouping  Source Quality\n",
              "0   51591      Mediterranean  ...              Uncategorized               5\n",
              "1   51588      Mediterranean  ...              Uncategorized               5\n",
              "2   51589      Mediterranean  ...              Uncategorized               3\n",
              "3   51590      Mediterranean  ...              Uncategorized               1\n",
              "4   51587    Central America  ...            Central America               3\n",
              "5   51580   US-Mexico Border  ...           Northern America               5\n",
              "6   51581   US-Mexico Border  ...           Northern America               5\n",
              "7   51585     Southeast Asia  ...         South-eastern Asia               3\n",
              "8   51586      Mediterranean  ...              Uncategorized               3\n",
              "9   51578   US-Mexico Border  ...           Northern America               5\n",
              "\n",
              "[10 rows x 20 columns]"
            ]
          },
          "metadata": {
            "tags": []
          },
          "execution_count": 5
        }
      ]
    },
    {
      "cell_type": "markdown",
      "metadata": {
        "id": "r_C5pXxgHbA1",
        "colab_type": "text"
      },
      "source": [
        "# Part 1: Data Visualization\n",
        "  1. Assign index variables for program readability of code\n",
        "  2. Plot relationship between Number of Females and Number of Children\n",
        "  3. Plot the Total Dead and Missing versus\n",
        "\n",
        "      a. Time\n",
        "\n",
        "      b. Year\n",
        "\n",
        "      c. Month\n",
        "  4. Plot Total Dead and Missing versus Region of Incident\n",
        "  5. Plot Total Dead and Missing versus Latitude versus Longitude\n"
      ]
    },
    {
      "cell_type": "code",
      "metadata": {
        "id": "yG99SJ3r7d8a",
        "colab_type": "code",
        "colab": {
          "base_uri": "https://localhost:8080/",
          "height": 334
        },
        "outputId": "73725265-e9d7-4792-bf38-1a6e6264cff0"
      },
      "source": [
        "iWebID = 0;\n",
        "iRegion = 1;\n",
        "iDate = 2;\n",
        "iYear = 3;\n",
        "iMonth = 4;\n",
        "iNumDead = 5;\n",
        "iNumMissing = 6;\n",
        "iTotalDeadMissing = 7;\n",
        "iNumSurvivors = 8;\n",
        "iNumFemales = 9;\n",
        "iNumMales = 10;\n",
        "iNumChildren = 11;\n",
        "iCause = 12;\n",
        "iLocation = 13;\n",
        "iSource = 14;\n",
        "iLatLon = 15;\n",
        "iRoute = 16;\n",
        "iURL = 17;\n",
        "iUNSD = 18;\n",
        "iSourceQuality = 19;\n",
        "\n",
        "df.plot.scatter('Number of Females','Number of Children', figsize=(5,5)) \n",
        "plt.show()"
      ],
      "execution_count": 6,
      "outputs": [
        {
          "output_type": "display_data",
          "data": {
            "image/png": "[encoded data removed]",
            "text/plain": [
              "<Figure size 360x360 with 1 Axes>"
            ]
          },
          "metadata": {
            "tags": []
          }
        }
      ]
    },
    {
      "cell_type": "code",
      "metadata": {
        "id": "bfK2Uav9Qtmj",
        "colab_type": "code",
        "colab": {}
      },
      "source": [
        "import seaborn as sns"
      ],
      "execution_count": 0,
      "outputs": []
    },
    {
      "cell_type": "code",
      "metadata": {
        "id": "9frLiqGL7dfe",
        "colab_type": "code",
        "colab": {
          "base_uri": "https://localhost:8080/",
          "height": 338
        },
        "outputId": "d95b485e-9253-4ecd-a79a-662b078c90e6"
      },
      "source": [
        "fig, ax = plt.subplots(1, 3,figsize=(15,5), sharey=True)\n",
        "ax[0].scatter(df.iloc[:,iDate], df.iloc[:,iTotalDeadMissing],  label=\"Total Dead and Missing per Incident over Time\")\n",
        "ax[0].legend()\n",
        "\n",
        "ax[1].scatter(df.iloc[:,iYear], df.iloc[:,iTotalDeadMissing],  label=\"Total Dead and Missing per Incident by Year\")\n",
        "ax[1].legend()\n",
        "\n",
        "ax[2].scatter(df.iloc[:,iMonth], df.iloc[:,iTotalDeadMissing],  label=\"Total Dead and Missing per Incident by Year\")\n",
        "ax[2].legend()"
      ],
      "execution_count": 8,
      "outputs": [
        {
          "output_type": "execute_result",
          "data": {
            "text/plain": [
              "<matplotlib.legend.Legend at 0x7f08f36ab400>"
            ]
          },
          "metadata": {
            "tags": []
          },
          "execution_count": 8
        },
        {
          "output_type": "display_data",
          "data": {
            "image/png": "[encoded data removed]",
            "text/plain": [
              "<Figure size 1080x360 with 3 Axes>"
            ]
          },
          "metadata": {
            "tags": []
          }
        }
      ]
    },
    {
      "cell_type": "code",
      "metadata": {
        "id": "l7xl1MjnmOv3",
        "colab_type": "code",
        "colab": {
          "base_uri": "https://localhost:8080/",
          "height": 320
        },
        "outputId": "b78512c9-ef4a-4bc2-f7f7-8a67bfd2528a"
      },
      "source": [
        "fig, ax = plt.subplots(figsize=(20,5))\n",
        "ax.scatter(df.iloc[:,iRegion], df.iloc[:,iTotalDeadMissing],  label=\"Total Dead and Missing by Region\")\n",
        "ax.legend()\n",
        "plt.show()"
      ],
      "execution_count": 9,
      "outputs": [
        {
          "output_type": "display_data",
          "data": {
            "image/png": "[encoded data removed]",
            "text/plain": [
              "<Figure size 1440x360 with 1 Axes>"
            ]
          },
          "metadata": {
            "tags": []
          }
        }
      ]
    },
    {
      "cell_type": "code",
      "metadata": {
        "colab_type": "code",
        "id": "g7-vOAROypmJ",
        "colab": {
          "base_uri": "https://localhost:8080/",
          "height": 35
        },
        "outputId": "42471fa1-59eb-477c-87b3-b759560d31dc"
      },
      "source": [
        "lat = []\n",
        "lon = []\n",
        "hue = []\n",
        "goodrows = df['Total Dead and Missing']>0\n",
        "#creat a latitute and longitude list\n",
        "for iCord in range(len(df.loc[goodrows,'Location Coordinates'])):\n",
        "  #print(iCord)\n",
        "  #totalDM = df.iloc[iCord:, iTotalDeadMissing]\n",
        "  if (isinstance(df.iloc[iCord,iLatLon], str) is False):\n",
        "    y = 0;\n",
        "    x = 0;\n",
        "  else:\n",
        "    y = (float)(df.iloc[iCord,iLatLon].split(',')[0])\n",
        "    x = (float)(df.iloc[iCord,iLatLon].split(',')[1])\n",
        "  #if totalDM<1:\n",
        "    #hue.append()\n",
        "  lat.append(y)\n",
        "  lon.append(x)\n",
        "\n",
        "print(\"We Done\")"
      ],
      "execution_count": 10,
      "outputs": [
        {
          "output_type": "stream",
          "text": [
            "We Done\n"
          ],
          "name": "stdout"
        }
      ]
    },
    {
      "cell_type": "markdown",
      "metadata": {
        "id": "GlfiRW0VJsMm",
        "colab_type": "text"
      },
      "source": [
        "# Part 3 Data Cleaning\n",
        "1. Convert Location Column to Two Columns for Latitude and Longitude Data\n",
        "2. Remove rows with NaN\n",
        "3. Filter out outliers (Top 2% of data)"
      ]
    },
    {
      "cell_type": "code",
      "metadata": {
        "id": "tMLNVzVMzxE-",
        "colab_type": "code",
        "colab": {
          "base_uri": "https://localhost:8080/",
          "height": 337
        },
        "outputId": "d8832124-7f8e-491b-f9af-b0c0b21ea36d"
      },
      "source": [
        "#find rows where total dead and missing is greater than one\n",
        "goodrows = df['Total Dead and Missing']>0\n",
        "modeldf = df.loc[goodrows,:]\n",
        "#of those rows, find the minimum number of dead and missing (should be greater than one)\n",
        "print(df.loc[goodrows,'Total Dead and Missing'].min())\n",
        "q = df.loc[goodrows,'Total Dead and Missing'].quantile(0.98)#remove top 2% as outliers\n",
        "#set to a newdf we will use for visualization, preserving original dataframe for training\n",
        "newdf =df.loc[goodrows][df.loc[goodrows,'Total Dead and Missing'] < q]\n",
        "\n",
        "\n",
        "lat4viz = [];\n",
        "lon4viz = [];\n",
        "for iCord in range(len(newdf.iloc[:,iLatLon])):\n",
        "  if (isinstance(newdf.iloc[iCord,iLatLon], str) is False):\n",
        "    y = 0;\n",
        "    x = 0;\n",
        "  else:\n",
        "    y = (float)(newdf.iloc[iCord,iLatLon].split(',')[0])\n",
        "    x = (float)(newdf.iloc[iCord,iLatLon].split(',')[1])\n",
        "  lat4viz.append(y)\n",
        "  lon4viz.append(x)\n",
        "print(len(newdf))\n",
        "print(len(lon4viz))\n",
        "sns.scatterplot( x=lon4viz, y=lat4viz, data=newdf, hue='Total Dead and Missing')"
      ],
      "execution_count": 11,
      "outputs": [
        {
          "output_type": "stream",
          "text": [
            "1\n",
            "5214\n",
            "5214\n"
          ],
          "name": "stdout"
        },
        {
          "output_type": "execute_result",
          "data": {
            "text/plain": [
              "<matplotlib.axes._subplots.AxesSubplot at 0x7f08f2ac06a0>"
            ]
          },
          "metadata": {
            "tags": []
          },
          "execution_count": 11
        },
        {
          "output_type": "display_data",
          "data": {
            "image/png": "[encoded data removed]",
            "text/plain": [
              "<Figure size 432x288 with 1 Axes>"
            ]
          },
          "metadata": {
            "tags": []
          }
        }
      ]
    },
    {
      "cell_type": "markdown",
      "metadata": {
        "id": "D7Q0drjemyYp",
        "colab_type": "text"
      },
      "source": [
        "# 1. Predicting Dead and Missing Number\n",
        "Features:\n",
        "1. Region\n",
        "3. Month\n",
        "4. Year\n",
        "5. Latitude\n",
        "6. Longitude\n",
        "\n",
        "(Future Work) Also Explore:\n",
        "  1. Migration Route\n",
        "  2. Cause of Death\n",
        "  2. Number of Males\n",
        "  3. Number of Females\n",
        "  4. Number of Children"
      ]
    },
    {
      "cell_type": "markdown",
      "metadata": {
        "id": "GuaFAIdx6hXl",
        "colab_type": "text"
      },
      "source": [
        "# Part 4 Prepare Data for Model\n",
        "1. Separate input and output data. \n",
        "2.  Convert region to an integer. \n",
        "3. Convert month from string to integer \n",
        "4. Scale features and output to be between 0 and 1"
      ]
    },
    {
      "cell_type": "code",
      "metadata": {
        "id": "tyFkLkLc9zRF",
        "colab_type": "code",
        "colab": {
          "base_uri": "https://localhost:8080/",
          "height": 381
        },
        "outputId": "b9f8e397-3100-4b15-b0fe-59d6b9fc45fc"
      },
      "source": [
        "modeldf.head(10)\n",
        "from time import strptime\n",
        "#q = modeldf.loc[:,'Total Dead and Missing'].quantile(0.98)#remove top 2% as outliers\n",
        "#set to a newdf we will use for visualization, preserving original dataframe for training\n",
        "#modeldf =modeldf[modeldf.loc[:,'Total Dead and Missing'] < q]\n",
        "#strptime('Feb','%b').tm_mon\n",
        "X = newdf.iloc[:,[1,3,4]]\n",
        "#X.head(5)\n",
        "X['Latitude'] = lat4viz\n",
        "X['Longitude'] = lon4viz\n",
        "for iReg in range(len(X)):\n",
        "  X.iloc[iReg,0] = sum(map(ord, X.iloc[iReg,0]))\n",
        "  X.iloc[iReg,2] = strptime(X.iloc[iReg,2],'%b').tm_mon\n",
        "#X.head(5)\n",
        "print(len(X))\n",
        "Y = newdf.iloc[:,iTotalDeadMissing]\n",
        "X -= X.min()  # equivalent to df = df - df.min()\n",
        "\n",
        "X /= X.max() \n",
        "Y -= Y.min()  # equivalent to df = df - df.min()\n",
        "\n",
        "Y /= Y.max() \n",
        "X = X.dropna()\n",
        "print(len(X))\n"
      ],
      "execution_count": 12,
      "outputs": [
        {
          "output_type": "stream",
          "text": [
            "/usr/local/lib/python3.6/dist-packages/ipykernel_launcher.py:9: SettingWithCopyWarning: \n",
            "A value is trying to be set on a copy of a slice from a DataFrame.\n",
            "Try using .loc[row_indexer,col_indexer] = value instead\n",
            "\n",
            "See the caveats in the documentation: http://pandas.pydata.org/pandas-docs/stable/user_guide/indexing.html#returning-a-view-versus-a-copy\n",
            "  if __name__ == '__main__':\n",
            "/usr/local/lib/python3.6/dist-packages/ipykernel_launcher.py:10: SettingWithCopyWarning: \n",
            "A value is trying to be set on a copy of a slice from a DataFrame.\n",
            "Try using .loc[row_indexer,col_indexer] = value instead\n",
            "\n",
            "See the caveats in the documentation: http://pandas.pydata.org/pandas-docs/stable/user_guide/indexing.html#returning-a-view-versus-a-copy\n",
            "  # Remove the CWD from sys.path while we load stuff.\n",
            "/usr/local/lib/python3.6/dist-packages/pandas/core/indexing.py:494: SettingWithCopyWarning: \n",
            "A value is trying to be set on a copy of a slice from a DataFrame.\n",
            "Try using .loc[row_indexer,col_indexer] = value instead\n",
            "\n",
            "See the caveats in the documentation: http://pandas.pydata.org/pandas-docs/stable/user_guide/indexing.html#returning-a-view-versus-a-copy\n",
            "  self.obj[item] = s\n"
          ],
          "name": "stderr"
        },
        {
          "output_type": "stream",
          "text": [
            "5214\n",
            "5214\n"
          ],
          "name": "stdout"
        }
      ]
    },
    {
      "cell_type": "markdown",
      "metadata": {
        "id": "Xozukpxw6cIr",
        "colab_type": "text"
      },
      "source": [
        "#"
      ]
    },
    {
      "cell_type": "markdown",
      "metadata": {
        "id": "ckuNFRhV616a",
        "colab_type": "text"
      },
      "source": [
        "# Part 5 Split Testing and Train Data\n",
        "90% Train, 10% Test"
      ]
    },
    {
      "cell_type": "code",
      "metadata": {
        "id": "mszaiapwrb4p",
        "colab_type": "code",
        "colab": {
          "base_uri": "https://localhost:8080/",
          "height": 407
        },
        "outputId": "69d0e063-a4a1-4413-fa90-2f46e08e5df5"
      },
      "source": [
        "lenTrain = (int)(len(X)*.9)\n",
        "scaledXTrain = X[0:lenTrain];\n",
        "scaledXTest = X[lenTrain:len(X)];\n",
        "scaledYTrain = Y[0:lenTrain];\n",
        "scaledYTest = Y[lenTrain:len(Y)];\n",
        "scaledXTrain"
      ],
      "execution_count": 13,
      "outputs": [
        {
          "output_type": "execute_result",
          "data": {
            "text/html": [
              "<div>\n",
              "<style scoped>\n",
              "    .dataframe tbody tr th:only-of-type {\n",
              "        vertical-align: middle;\n",
              "    }\n",
              "\n",
              "    .dataframe tbody tr th {\n",
              "        vertical-align: top;\n",
              "    }\n",
              "\n",
              "    .dataframe thead th {\n",
              "        text-align: right;\n",
              "    }\n",
              "</style>\n",
              "<table border=\"1\" class=\"dataframe\">\n",
              "  <thead>\n",
              "    <tr style=\"text-align: right;\">\n",
              "      <th></th>\n",
              "      <th>Region of Incident</th>\n",
              "      <th>Reported Year</th>\n",
              "      <th>Reported Month</th>\n",
              "      <th>Latitude</th>\n",
              "      <th>Longitude</th>\n",
              "    </tr>\n",
              "  </thead>\n",
              "  <tbody>\n",
              "    <tr>\n",
              "      <th>0</th>\n",
              "      <td>0.694686</td>\n",
              "      <td>1.0</td>\n",
              "      <td>0.181818</td>\n",
              "      <td>0.715597</td>\n",
              "      <td>0.606040</td>\n",
              "    </tr>\n",
              "    <tr>\n",
              "      <th>1</th>\n",
              "      <td>0.694686</td>\n",
              "      <td>1.0</td>\n",
              "      <td>0.181818</td>\n",
              "      <td>0.726345</td>\n",
              "      <td>0.606897</td>\n",
              "    </tr>\n",
              "    <tr>\n",
              "      <th>2</th>\n",
              "      <td>0.694686</td>\n",
              "      <td>1.0</td>\n",
              "      <td>0.181818</td>\n",
              "      <td>0.690803</td>\n",
              "      <td>0.475047</td>\n",
              "    </tr>\n",
              "    <tr>\n",
              "      <th>3</th>\n",
              "      <td>0.694686</td>\n",
              "      <td>1.0</td>\n",
              "      <td>0.181818</td>\n",
              "      <td>0.688446</td>\n",
              "      <td>0.475327</td>\n",
              "    </tr>\n",
              "    <tr>\n",
              "      <th>4</th>\n",
              "      <td>0.783575</td>\n",
              "      <td>1.0</td>\n",
              "      <td>0.181818</td>\n",
              "      <td>0.526166</td>\n",
              "      <td>0.089632</td>\n",
              "    </tr>\n",
              "    <tr>\n",
              "      <th>...</th>\n",
              "      <td>...</td>\n",
              "      <td>...</td>\n",
              "      <td>...</td>\n",
              "      <td>...</td>\n",
              "      <td>...</td>\n",
              "    </tr>\n",
              "    <tr>\n",
              "      <th>4767</th>\n",
              "      <td>0.811594</td>\n",
              "      <td>0.2</td>\n",
              "      <td>0.636364</td>\n",
              "      <td>0.648488</td>\n",
              "      <td>0.032022</td>\n",
              "    </tr>\n",
              "    <tr>\n",
              "      <th>4768</th>\n",
              "      <td>0.495652</td>\n",
              "      <td>0.2</td>\n",
              "      <td>0.636364</td>\n",
              "      <td>0.487846</td>\n",
              "      <td>0.515444</td>\n",
              "    </tr>\n",
              "    <tr>\n",
              "      <th>4769</th>\n",
              "      <td>0.495652</td>\n",
              "      <td>0.2</td>\n",
              "      <td>0.636364</td>\n",
              "      <td>0.462942</td>\n",
              "      <td>0.623272</td>\n",
              "    </tr>\n",
              "    <tr>\n",
              "      <th>4770</th>\n",
              "      <td>0.495652</td>\n",
              "      <td>0.2</td>\n",
              "      <td>0.636364</td>\n",
              "      <td>0.549574</td>\n",
              "      <td>0.625073</td>\n",
              "    </tr>\n",
              "    <tr>\n",
              "      <th>4771</th>\n",
              "      <td>0.811594</td>\n",
              "      <td>0.2</td>\n",
              "      <td>0.636364</td>\n",
              "      <td>0.648488</td>\n",
              "      <td>0.032022</td>\n",
              "    </tr>\n",
              "  </tbody>\n",
              "</table>\n",
              "<p>4692 rows × 5 columns</p>\n",
              "</div>"
            ],
            "text/plain": [
              "      Region of Incident  Reported Year  Reported Month  Latitude  Longitude\n",
              "0               0.694686            1.0        0.181818  0.715597   0.606040\n",
              "1               0.694686            1.0        0.181818  0.726345   0.606897\n",
              "2               0.694686            1.0        0.181818  0.690803   0.475047\n",
              "3               0.694686            1.0        0.181818  0.688446   0.475327\n",
              "4               0.783575            1.0        0.181818  0.526166   0.089632\n",
              "...                  ...            ...             ...       ...        ...\n",
              "4767            0.811594            0.2        0.636364  0.648488   0.032022\n",
              "4768            0.495652            0.2        0.636364  0.487846   0.515444\n",
              "4769            0.495652            0.2        0.636364  0.462942   0.623272\n",
              "4770            0.495652            0.2        0.636364  0.549574   0.625073\n",
              "4771            0.811594            0.2        0.636364  0.648488   0.032022\n",
              "\n",
              "[4692 rows x 5 columns]"
            ]
          },
          "metadata": {
            "tags": []
          },
          "execution_count": 13
        }
      ]
    },
    {
      "cell_type": "markdown",
      "metadata": {
        "id": "6uj9FbH5-fYw",
        "colab_type": "text"
      },
      "source": [
        "#Part 6 Design Model\n",
        "  1. Add Dense Layer with 5 inputs, activation Relu\n",
        "  2. Add another Dense Layer, activation Relu\n",
        "  3. Add Dropout Layer for preventing Overfitting\n",
        "  4. Add Sigmoid Output Layer"
      ]
    },
    {
      "cell_type": "code",
      "metadata": {
        "id": "7Vo4QHxB_2I-",
        "colab_type": "code",
        "colab": {
          "base_uri": "https://localhost:8080/",
          "height": 237
        },
        "outputId": "21a17dca-db73-4394-b651-51b2ac2aafab"
      },
      "source": [
        "from keras.layers import Dropout\n",
        "np.random.seed(9)\n",
        "model = Sequential()\n",
        "model.add(Dense(12, input_dim=5, activation='relu'))\n",
        "model.add(Dense(12, activation='relu'))\n",
        "model.add(Dropout(.1))\n",
        "model.add(Dense(1, activation='sigmoid'))"
      ],
      "execution_count": 14,
      "outputs": [
        {
          "output_type": "stream",
          "text": [
            "WARNING:tensorflow:From /usr/local/lib/python3.6/dist-packages/keras/backend/tensorflow_backend.py:66: The name tf.get_default_graph is deprecated. Please use tf.compat.v1.get_default_graph instead.\n",
            "\n",
            "WARNING:tensorflow:From /usr/local/lib/python3.6/dist-packages/keras/backend/tensorflow_backend.py:541: The name tf.placeholder is deprecated. Please use tf.compat.v1.placeholder instead.\n",
            "\n",
            "WARNING:tensorflow:From /usr/local/lib/python3.6/dist-packages/keras/backend/tensorflow_backend.py:4432: The name tf.random_uniform is deprecated. Please use tf.random.uniform instead.\n",
            "\n",
            "WARNING:tensorflow:From /usr/local/lib/python3.6/dist-packages/keras/backend/tensorflow_backend.py:148: The name tf.placeholder_with_default is deprecated. Please use tf.compat.v1.placeholder_with_default instead.\n",
            "\n",
            "WARNING:tensorflow:From /usr/local/lib/python3.6/dist-packages/keras/backend/tensorflow_backend.py:3733: calling dropout (from tensorflow.python.ops.nn_ops) with keep_prob is deprecated and will be removed in a future version.\n",
            "Instructions for updating:\n",
            "Please use `rate` instead of `keep_prob`. Rate should be set to `rate = 1 - keep_prob`.\n"
          ],
          "name": "stdout"
        }
      ]
    },
    {
      "cell_type": "markdown",
      "metadata": {
        "id": "JtR2BN94-wyn",
        "colab_type": "text"
      },
      "source": [
        "#Part 7\n",
        "Compile Mode.  Adjust learning rate.  Use Mean Squared Error as loss fuction, opt as optimizer, and track accuracy metric.  I chose to use Mean Squared Error for the loss function as the result of this model is numeric, not categorical, and Mean Squared Error performed better than other options (e.g. hinge).  The optimizer was also chosen based on experimentation and performance.  SGD was used to tweak the learning rate, so as to not overshoot the minimum of the cost function."
      ]
    },
    {
      "cell_type": "code",
      "metadata": {
        "id": "uiMxNcDkAAa-",
        "colab_type": "code",
        "colab": {
          "base_uri": "https://localhost:8080/",
          "height": 74
        },
        "outputId": "0834eb7c-ff85-4a24-c3ca-72e40a4bf1f5"
      },
      "source": [
        "from keras.optimizers import SGD\n",
        "from keras import losses\n",
        "opt = SGD(lr=0.0001)\n",
        "model.compile(loss='mean_squared_error', optimizer=opt, metrics=['accuracy'])\n"
      ],
      "execution_count": 15,
      "outputs": [
        {
          "output_type": "stream",
          "text": [
            "WARNING:tensorflow:From /usr/local/lib/python3.6/dist-packages/keras/optimizers.py:793: The name tf.train.Optimizer is deprecated. Please use tf.compat.v1.train.Optimizer instead.\n",
            "\n"
          ],
          "name": "stdout"
        }
      ]
    },
    {
      "cell_type": "markdown",
      "metadata": {
        "id": "l26bqcSA_BtJ",
        "colab_type": "text"
      },
      "source": [
        "# Part 8 Train Model\n",
        "100 epochs, 100 steps per epoch"
      ]
    },
    {
      "cell_type": "code",
      "metadata": {
        "id": "rBPlebFzAEg_",
        "colab_type": "code",
        "colab": {
          "base_uri": "https://localhost:8080/",
          "height": 1000
        },
        "outputId": "d294e3ae-b772-47f3-c927-c70ef99e1b0f"
      },
      "source": [
        "\n",
        "hist = model.fit(scaledXTrain, scaledYTrain, epochs=100, steps_per_epoch=100, validation_data = (scaledXTest, scaledYTest),\n",
        "                        validation_steps = 100)"
      ],
      "execution_count": 16,
      "outputs": [
        {
          "output_type": "stream",
          "text": [
            "WARNING:tensorflow:From /usr/local/lib/python3.6/dist-packages/keras/backend/tensorflow_backend.py:1033: The name tf.assign_add is deprecated. Please use tf.compat.v1.assign_add instead.\n",
            "\n",
            "WARNING:tensorflow:From /usr/local/lib/python3.6/dist-packages/keras/backend/tensorflow_backend.py:1020: The name tf.assign is deprecated. Please use tf.compat.v1.assign instead.\n",
            "\n",
            "WARNING:tensorflow:From /usr/local/lib/python3.6/dist-packages/keras/backend/tensorflow_backend.py:3005: The name tf.Session is deprecated. Please use tf.compat.v1.Session instead.\n",
            "\n",
            "Train on 4692 samples, validate on 522 samples\n",
            "Epoch 1/100\n",
            "WARNING:tensorflow:From /usr/local/lib/python3.6/dist-packages/keras/backend/tensorflow_backend.py:190: The name tf.get_default_session is deprecated. Please use tf.compat.v1.get_default_session instead.\n",
            "\n",
            "WARNING:tensorflow:From /usr/local/lib/python3.6/dist-packages/keras/backend/tensorflow_backend.py:197: The name tf.ConfigProto is deprecated. Please use tf.compat.v1.ConfigProto instead.\n",
            "\n",
            "WARNING:tensorflow:From /usr/local/lib/python3.6/dist-packages/keras/backend/tensorflow_backend.py:207: The name tf.global_variables is deprecated. Please use tf.compat.v1.global_variables instead.\n",
            "\n",
            "WARNING:tensorflow:From /usr/local/lib/python3.6/dist-packages/keras/backend/tensorflow_backend.py:216: The name tf.is_variable_initialized is deprecated. Please use tf.compat.v1.is_variable_initialized instead.\n",
            "\n",
            "WARNING:tensorflow:From /usr/local/lib/python3.6/dist-packages/keras/backend/tensorflow_backend.py:223: The name tf.variables_initializer is deprecated. Please use tf.compat.v1.variables_initializer instead.\n",
            "\n",
            "100/100 [==============================] - 1s 13ms/step - loss: 0.1954 - acc: 0.5881 - val_loss: 0.1923 - val_acc: 0.6590\n",
            "Epoch 2/100\n",
            "100/100 [==============================] - 1s 5ms/step - loss: 0.1940 - acc: 0.5919 - val_loss: 0.1912 - val_acc: 0.6628\n",
            "Epoch 3/100\n",
            "100/100 [==============================] - 0s 4ms/step - loss: 0.1926 - acc: 0.5952 - val_loss: 0.1902 - val_acc: 0.6743\n",
            "Epoch 4/100\n",
            "100/100 [==============================] - 0s 4ms/step - loss: 0.1913 - acc: 0.5983 - val_loss: 0.1892 - val_acc: 0.6743\n",
            "Epoch 5/100\n",
            "100/100 [==============================] - 0s 4ms/step - loss: 0.1900 - acc: 0.6007 - val_loss: 0.1882 - val_acc: 0.6743\n",
            "Epoch 6/100\n",
            "100/100 [==============================] - 0s 4ms/step - loss: 0.1886 - acc: 0.6033 - val_loss: 0.1872 - val_acc: 0.6743\n",
            "Epoch 7/100\n",
            "100/100 [==============================] - 0s 4ms/step - loss: 0.1873 - acc: 0.6050 - val_loss: 0.1863 - val_acc: 0.6743\n",
            "Epoch 8/100\n",
            "100/100 [==============================] - 0s 4ms/step - loss: 0.1861 - acc: 0.6062 - val_loss: 0.1853 - val_acc: 0.6743\n",
            "Epoch 9/100\n",
            "100/100 [==============================] - 0s 4ms/step - loss: 0.1848 - acc: 0.6074 - val_loss: 0.1844 - val_acc: 0.6762\n",
            "Epoch 10/100\n",
            "100/100 [==============================] - 0s 4ms/step - loss: 0.1835 - acc: 0.6083 - val_loss: 0.1834 - val_acc: 0.6762\n",
            "Epoch 11/100\n",
            "100/100 [==============================] - 0s 4ms/step - loss: 0.1823 - acc: 0.6094 - val_loss: 0.1825 - val_acc: 0.6762\n",
            "Epoch 12/100\n",
            "100/100 [==============================] - 0s 4ms/step - loss: 0.1810 - acc: 0.6103 - val_loss: 0.1816 - val_acc: 0.6762\n",
            "Epoch 13/100\n",
            "100/100 [==============================] - 0s 5ms/step - loss: 0.1798 - acc: 0.6114 - val_loss: 0.1807 - val_acc: 0.6762\n",
            "Epoch 14/100\n",
            "100/100 [==============================] - 0s 5ms/step - loss: 0.1785 - acc: 0.6122 - val_loss: 0.1798 - val_acc: 0.6762\n",
            "Epoch 15/100\n",
            "100/100 [==============================] - 0s 4ms/step - loss: 0.1773 - acc: 0.6133 - val_loss: 0.1789 - val_acc: 0.6762\n",
            "Epoch 16/100\n",
            "100/100 [==============================] - 0s 5ms/step - loss: 0.1761 - acc: 0.6142 - val_loss: 0.1780 - val_acc: 0.6762\n",
            "Epoch 17/100\n",
            "100/100 [==============================] - 0s 4ms/step - loss: 0.1749 - acc: 0.6149 - val_loss: 0.1771 - val_acc: 0.6762\n",
            "Epoch 18/100\n",
            "100/100 [==============================] - 0s 4ms/step - loss: 0.1737 - acc: 0.6151 - val_loss: 0.1762 - val_acc: 0.6762\n",
            "Epoch 19/100\n",
            "100/100 [==============================] - 0s 4ms/step - loss: 0.1725 - acc: 0.6161 - val_loss: 0.1753 - val_acc: 0.6762\n",
            "Epoch 20/100\n",
            "100/100 [==============================] - 0s 4ms/step - loss: 0.1712 - acc: 0.6171 - val_loss: 0.1745 - val_acc: 0.6762\n",
            "Epoch 21/100\n",
            "100/100 [==============================] - 0s 4ms/step - loss: 0.1700 - acc: 0.6180 - val_loss: 0.1736 - val_acc: 0.6762\n",
            "Epoch 22/100\n",
            "100/100 [==============================] - 0s 4ms/step - loss: 0.1689 - acc: 0.6187 - val_loss: 0.1727 - val_acc: 0.6762\n",
            "Epoch 23/100\n",
            "100/100 [==============================] - 0s 4ms/step - loss: 0.1677 - acc: 0.6190 - val_loss: 0.1718 - val_acc: 0.6762\n",
            "Epoch 24/100\n",
            "100/100 [==============================] - 0s 4ms/step - loss: 0.1665 - acc: 0.6194 - val_loss: 0.1710 - val_acc: 0.6762\n",
            "Epoch 25/100\n",
            "100/100 [==============================] - 0s 4ms/step - loss: 0.1653 - acc: 0.6198 - val_loss: 0.1701 - val_acc: 0.6762\n",
            "Epoch 26/100\n",
            "100/100 [==============================] - 0s 4ms/step - loss: 0.1641 - acc: 0.6198 - val_loss: 0.1692 - val_acc: 0.6762\n",
            "Epoch 27/100\n",
            "100/100 [==============================] - 0s 4ms/step - loss: 0.1630 - acc: 0.6199 - val_loss: 0.1684 - val_acc: 0.6762\n",
            "Epoch 28/100\n",
            "100/100 [==============================] - 0s 4ms/step - loss: 0.1618 - acc: 0.6204 - val_loss: 0.1675 - val_acc: 0.6762\n",
            "Epoch 29/100\n",
            "100/100 [==============================] - 0s 4ms/step - loss: 0.1607 - acc: 0.6204 - val_loss: 0.1667 - val_acc: 0.6762\n",
            "Epoch 30/100\n",
            "100/100 [==============================] - 0s 4ms/step - loss: 0.1595 - acc: 0.6205 - val_loss: 0.1658 - val_acc: 0.6762\n",
            "Epoch 31/100\n",
            "100/100 [==============================] - 0s 4ms/step - loss: 0.1584 - acc: 0.6207 - val_loss: 0.1650 - val_acc: 0.6762\n",
            "Epoch 32/100\n",
            "100/100 [==============================] - 0s 4ms/step - loss: 0.1572 - acc: 0.6209 - val_loss: 0.1642 - val_acc: 0.6762\n",
            "Epoch 33/100\n",
            "100/100 [==============================] - 0s 4ms/step - loss: 0.1561 - acc: 0.6211 - val_loss: 0.1633 - val_acc: 0.6762\n",
            "Epoch 34/100\n",
            "100/100 [==============================] - 0s 4ms/step - loss: 0.1550 - acc: 0.6211 - val_loss: 0.1625 - val_acc: 0.6762\n",
            "Epoch 35/100\n",
            "100/100 [==============================] - 0s 4ms/step - loss: 0.1539 - acc: 0.6212 - val_loss: 0.1617 - val_acc: 0.6762\n",
            "Epoch 36/100\n",
            "100/100 [==============================] - 0s 4ms/step - loss: 0.1528 - acc: 0.6213 - val_loss: 0.1608 - val_acc: 0.6762\n",
            "Epoch 37/100\n",
            "100/100 [==============================] - 0s 4ms/step - loss: 0.1517 - acc: 0.6213 - val_loss: 0.1600 - val_acc: 0.6762\n",
            "Epoch 38/100\n",
            "100/100 [==============================] - 0s 4ms/step - loss: 0.1506 - acc: 0.6214 - val_loss: 0.1592 - val_acc: 0.6762\n",
            "Epoch 39/100\n",
            "100/100 [==============================] - 0s 4ms/step - loss: 0.1495 - acc: 0.6215 - val_loss: 0.1584 - val_acc: 0.6762\n",
            "Epoch 40/100\n",
            "100/100 [==============================] - 0s 4ms/step - loss: 0.1484 - acc: 0.6215 - val_loss: 0.1576 - val_acc: 0.6762\n",
            "Epoch 41/100\n",
            "100/100 [==============================] - 0s 4ms/step - loss: 0.1473 - acc: 0.6215 - val_loss: 0.1568 - val_acc: 0.6762\n",
            "Epoch 42/100\n",
            "100/100 [==============================] - 0s 4ms/step - loss: 0.1463 - acc: 0.6216 - val_loss: 0.1560 - val_acc: 0.6762\n",
            "Epoch 43/100\n",
            "100/100 [==============================] - 0s 4ms/step - loss: 0.1452 - acc: 0.6216 - val_loss: 0.1552 - val_acc: 0.6762\n",
            "Epoch 44/100\n",
            "100/100 [==============================] - 0s 4ms/step - loss: 0.1442 - acc: 0.6216 - val_loss: 0.1544 - val_acc: 0.6762\n",
            "Epoch 45/100\n",
            "100/100 [==============================] - 0s 4ms/step - loss: 0.1431 - acc: 0.6216 - val_loss: 0.1536 - val_acc: 0.6762\n",
            "Epoch 46/100\n",
            "100/100 [==============================] - 0s 4ms/step - loss: 0.1421 - acc: 0.6216 - val_loss: 0.1528 - val_acc: 0.6762\n",
            "Epoch 47/100\n",
            "100/100 [==============================] - 0s 4ms/step - loss: 0.1411 - acc: 0.6216 - val_loss: 0.1521 - val_acc: 0.6762\n",
            "Epoch 48/100\n",
            "100/100 [==============================] - 0s 4ms/step - loss: 0.1401 - acc: 0.6216 - val_loss: 0.1513 - val_acc: 0.6762\n",
            "Epoch 49/100\n",
            "100/100 [==============================] - 0s 4ms/step - loss: 0.1391 - acc: 0.6216 - val_loss: 0.1505 - val_acc: 0.6762\n",
            "Epoch 50/100\n",
            "100/100 [==============================] - 0s 4ms/step - loss: 0.1381 - acc: 0.6216 - val_loss: 0.1498 - val_acc: 0.6762\n",
            "Epoch 51/100\n",
            "100/100 [==============================] - 0s 4ms/step - loss: 0.1371 - acc: 0.6216 - val_loss: 0.1490 - val_acc: 0.6762\n",
            "Epoch 52/100\n",
            "100/100 [==============================] - 0s 4ms/step - loss: 0.1361 - acc: 0.6216 - val_loss: 0.1483 - val_acc: 0.6762\n",
            "Epoch 53/100\n",
            "100/100 [==============================] - 0s 4ms/step - loss: 0.1352 - acc: 0.6216 - val_loss: 0.1475 - val_acc: 0.6762\n",
            "Epoch 54/100\n",
            "100/100 [==============================] - 0s 4ms/step - loss: 0.1342 - acc: 0.6216 - val_loss: 0.1468 - val_acc: 0.6762\n",
            "Epoch 55/100\n",
            "100/100 [==============================] - 0s 4ms/step - loss: 0.1332 - acc: 0.6217 - val_loss: 0.1461 - val_acc: 0.6762\n",
            "Epoch 56/100\n",
            "100/100 [==============================] - 0s 4ms/step - loss: 0.1323 - acc: 0.6216 - val_loss: 0.1453 - val_acc: 0.6762\n",
            "Epoch 57/100\n",
            "100/100 [==============================] - 0s 5ms/step - loss: 0.1314 - acc: 0.6217 - val_loss: 0.1446 - val_acc: 0.6762\n",
            "Epoch 58/100\n",
            "100/100 [==============================] - 0s 5ms/step - loss: 0.1304 - acc: 0.6217 - val_loss: 0.1439 - val_acc: 0.6762\n",
            "Epoch 59/100\n",
            "100/100 [==============================] - 0s 4ms/step - loss: 0.1295 - acc: 0.6217 - val_loss: 0.1431 - val_acc: 0.6762\n",
            "Epoch 60/100\n",
            "100/100 [==============================] - 0s 4ms/step - loss: 0.1286 - acc: 0.6217 - val_loss: 0.1424 - val_acc: 0.6762\n",
            "Epoch 61/100\n",
            "100/100 [==============================] - 0s 5ms/step - loss: 0.1277 - acc: 0.6217 - val_loss: 0.1417 - val_acc: 0.6762\n",
            "Epoch 62/100\n",
            "100/100 [==============================] - 0s 4ms/step - loss: 0.1268 - acc: 0.6217 - val_loss: 0.1410 - val_acc: 0.6762\n",
            "Epoch 63/100\n",
            "100/100 [==============================] - 0s 5ms/step - loss: 0.1259 - acc: 0.6217 - val_loss: 0.1403 - val_acc: 0.6762\n",
            "Epoch 64/100\n",
            "100/100 [==============================] - 0s 4ms/step - loss: 0.1250 - acc: 0.6217 - val_loss: 0.1396 - val_acc: 0.6762\n",
            "Epoch 65/100\n",
            "100/100 [==============================] - 0s 4ms/step - loss: 0.1241 - acc: 0.6217 - val_loss: 0.1389 - val_acc: 0.6762\n",
            "Epoch 66/100\n",
            "100/100 [==============================] - 0s 4ms/step - loss: 0.1232 - acc: 0.6217 - val_loss: 0.1382 - val_acc: 0.6762\n",
            "Epoch 67/100\n",
            "100/100 [==============================] - 0s 4ms/step - loss: 0.1223 - acc: 0.6217 - val_loss: 0.1375 - val_acc: 0.6762\n",
            "Epoch 68/100\n",
            "100/100 [==============================] - 0s 4ms/step - loss: 0.1214 - acc: 0.6217 - val_loss: 0.1368 - val_acc: 0.6762\n",
            "Epoch 69/100\n",
            "100/100 [==============================] - 0s 4ms/step - loss: 0.1206 - acc: 0.6217 - val_loss: 0.1362 - val_acc: 0.6762\n",
            "Epoch 70/100\n",
            "100/100 [==============================] - 0s 4ms/step - loss: 0.1197 - acc: 0.6217 - val_loss: 0.1355 - val_acc: 0.6762\n",
            "Epoch 71/100\n",
            "100/100 [==============================] - 0s 4ms/step - loss: 0.1189 - acc: 0.6217 - val_loss: 0.1348 - val_acc: 0.6762\n",
            "Epoch 72/100\n",
            "100/100 [==============================] - 0s 4ms/step - loss: 0.1181 - acc: 0.6217 - val_loss: 0.1341 - val_acc: 0.6762\n",
            "Epoch 73/100\n",
            "100/100 [==============================] - 0s 4ms/step - loss: 0.1173 - acc: 0.6217 - val_loss: 0.1335 - val_acc: 0.6762\n",
            "Epoch 74/100\n",
            "100/100 [==============================] - 0s 4ms/step - loss: 0.1164 - acc: 0.6217 - val_loss: 0.1328 - val_acc: 0.6762\n",
            "Epoch 75/100\n",
            "100/100 [==============================] - 0s 4ms/step - loss: 0.1156 - acc: 0.6217 - val_loss: 0.1322 - val_acc: 0.6762\n",
            "Epoch 76/100\n",
            "100/100 [==============================] - 0s 4ms/step - loss: 0.1148 - acc: 0.6217 - val_loss: 0.1315 - val_acc: 0.6762\n",
            "Epoch 77/100\n",
            "100/100 [==============================] - 0s 4ms/step - loss: 0.1140 - acc: 0.6217 - val_loss: 0.1309 - val_acc: 0.6762\n",
            "Epoch 78/100\n",
            "100/100 [==============================] - 0s 4ms/step - loss: 0.1132 - acc: 0.6217 - val_loss: 0.1302 - val_acc: 0.6762\n",
            "Epoch 79/100\n",
            "100/100 [==============================] - 0s 4ms/step - loss: 0.1125 - acc: 0.6217 - val_loss: 0.1296 - val_acc: 0.6762\n",
            "Epoch 80/100\n",
            "100/100 [==============================] - 0s 4ms/step - loss: 0.1117 - acc: 0.6217 - val_loss: 0.1290 - val_acc: 0.6762\n",
            "Epoch 81/100\n",
            "100/100 [==============================] - 0s 4ms/step - loss: 0.1109 - acc: 0.6217 - val_loss: 0.1283 - val_acc: 0.6762\n",
            "Epoch 82/100\n",
            "100/100 [==============================] - 0s 4ms/step - loss: 0.1102 - acc: 0.6217 - val_loss: 0.1277 - val_acc: 0.6762\n",
            "Epoch 83/100\n",
            "100/100 [==============================] - 0s 4ms/step - loss: 0.1093 - acc: 0.6217 - val_loss: 0.1271 - val_acc: 0.6762\n",
            "Epoch 84/100\n",
            "100/100 [==============================] - 0s 4ms/step - loss: 0.1086 - acc: 0.6217 - val_loss: 0.1265 - val_acc: 0.6762\n",
            "Epoch 85/100\n",
            "100/100 [==============================] - 0s 4ms/step - loss: 0.1079 - acc: 0.6217 - val_loss: 0.1259 - val_acc: 0.6762\n",
            "Epoch 86/100\n",
            "100/100 [==============================] - 0s 4ms/step - loss: 0.1071 - acc: 0.6217 - val_loss: 0.1253 - val_acc: 0.6762\n",
            "Epoch 87/100\n",
            "100/100 [==============================] - 0s 4ms/step - loss: 0.1063 - acc: 0.6217 - val_loss: 0.1247 - val_acc: 0.6762\n",
            "Epoch 88/100\n",
            "100/100 [==============================] - 0s 4ms/step - loss: 0.1057 - acc: 0.6217 - val_loss: 0.1241 - val_acc: 0.6762\n",
            "Epoch 89/100\n",
            "100/100 [==============================] - 0s 4ms/step - loss: 0.1049 - acc: 0.6217 - val_loss: 0.1235 - val_acc: 0.6762\n",
            "Epoch 90/100\n",
            "100/100 [==============================] - 0s 4ms/step - loss: 0.1042 - acc: 0.6217 - val_loss: 0.1229 - val_acc: 0.6762\n",
            "Epoch 91/100\n",
            "100/100 [==============================] - 0s 4ms/step - loss: 0.1035 - acc: 0.6217 - val_loss: 0.1223 - val_acc: 0.6762\n",
            "Epoch 92/100\n",
            "100/100 [==============================] - 0s 4ms/step - loss: 0.1028 - acc: 0.6217 - val_loss: 0.1217 - val_acc: 0.6762\n",
            "Epoch 93/100\n",
            "100/100 [==============================] - 0s 4ms/step - loss: 0.1020 - acc: 0.6217 - val_loss: 0.1211 - val_acc: 0.6762\n",
            "Epoch 94/100\n",
            "100/100 [==============================] - 0s 4ms/step - loss: 0.1014 - acc: 0.6217 - val_loss: 0.1206 - val_acc: 0.6762\n",
            "Epoch 95/100\n",
            "100/100 [==============================] - 0s 4ms/step - loss: 0.1007 - acc: 0.6217 - val_loss: 0.1200 - val_acc: 0.6762\n",
            "Epoch 96/100\n",
            "100/100 [==============================] - 0s 4ms/step - loss: 0.0999 - acc: 0.6217 - val_loss: 0.1194 - val_acc: 0.6762\n",
            "Epoch 97/100\n",
            "100/100 [==============================] - 0s 4ms/step - loss: 0.0993 - acc: 0.6217 - val_loss: 0.1189 - val_acc: 0.6762\n",
            "Epoch 98/100\n",
            "100/100 [==============================] - 0s 4ms/step - loss: 0.0986 - acc: 0.6217 - val_loss: 0.1183 - val_acc: 0.6762\n",
            "Epoch 99/100\n",
            "100/100 [==============================] - 0s 4ms/step - loss: 0.0980 - acc: 0.6217 - val_loss: 0.1177 - val_acc: 0.6762\n",
            "Epoch 100/100\n",
            "100/100 [==============================] - 0s 4ms/step - loss: 0.0973 - acc: 0.6217 - val_loss: 0.1172 - val_acc: 0.6762\n"
          ],
          "name": "stdout"
        }
      ]
    },
    {
      "cell_type": "markdown",
      "metadata": {
        "id": "8hmcbdvy_Nz0",
        "colab_type": "text"
      },
      "source": [
        "# Finally, Evaluate the model"
      ]
    },
    {
      "cell_type": "markdown",
      "metadata": {
        "id": "y0BuuDrH-NZn",
        "colab_type": "text"
      },
      "source": [
        "Evaluate Model on the Test set"
      ]
    },
    {
      "cell_type": "code",
      "metadata": {
        "id": "9GU_2B5TMJxV",
        "colab_type": "code",
        "colab": {
          "base_uri": "https://localhost:8080/",
          "height": 72
        },
        "outputId": "e9d2becb-3bb7-4d57-fd15-a39eeecfbbad"
      },
      "source": [
        "scores = model.evaluate(scaledXTest, scaledYTest)\n",
        "print(\"\\n%s: %.2f%%\" % (model.metrics_names[1], scores[1]*100))"
      ],
      "execution_count": 17,
      "outputs": [
        {
          "output_type": "stream",
          "text": [
            "522/522 [==============================] - 0s 29us/step\n",
            "\n",
            "acc: 67.62%\n"
          ],
          "name": "stdout"
        }
      ]
    },
    {
      "cell_type": "markdown",
      "metadata": {
        "id": "Op3PcaJW-Tst",
        "colab_type": "text"
      },
      "source": [
        "Plot the Accuracy over time"
      ]
    },
    {
      "cell_type": "code",
      "metadata": {
        "id": "BPAiscaU-CS8",
        "colab_type": "code",
        "colab": {
          "base_uri": "https://localhost:8080/",
          "height": 295
        },
        "outputId": "afd6ebf8-cd6c-43db-97ec-3f3991440521"
      },
      "source": [
        "plt.plot(hist.history['acc'])\n",
        "plt.plot(hist.history['val_acc'])\n",
        "plt.title('Model accuracy')\n",
        "plt.ylabel('Accuracy')\n",
        "plt.xlabel('Epoch')\n",
        "plt.legend(['Train', 'Val'], loc='upper left')\n",
        "plt.show()"
      ],
      "execution_count": 18,
      "outputs": [
        {
          "output_type": "display_data",
          "data": {
            "image/png": "[encoded data removed]",
            "text/plain": [
              "<Figure size 432x288 with 1 Axes>"
            ]
          },
          "metadata": {
            "tags": []
          }
        }
      ]
    },
    {
      "cell_type": "markdown",
      "metadata": {
        "id": "7rBjbPc3-XFG",
        "colab_type": "text"
      },
      "source": [
        "Plot the Loss over time"
      ]
    },
    {
      "cell_type": "code",
      "metadata": {
        "id": "osXXEEcg9VZ5",
        "colab_type": "code",
        "colab": {
          "base_uri": "https://localhost:8080/",
          "height": 295
        },
        "outputId": "bad3d9a9-dd6d-4988-fbe6-882e09f3fdde"
      },
      "source": [
        "plt.plot(hist.history['loss'])\n",
        "plt.plot(hist.history['val_loss'])\n",
        "plt.title('Model loss')\n",
        "plt.ylabel('Loss')\n",
        "plt.xlabel('Epoch')\n",
        "plt.legend(['Train', 'Val'], loc='upper right')\n",
        "plt.show()"
      ],
      "execution_count": 19,
      "outputs": [
        {
          "output_type": "display_data",
          "data": {
            "image/png": "[encoded data removed]",
            "text/plain": [
              "<Figure size 432x288 with 1 Axes>"
            ]
          },
          "metadata": {
            "tags": []
          }
        }
      ]
    },
    {
      "cell_type": "markdown",
      "metadata": {
        "id": "vf4hkZH8-d0b",
        "colab_type": "text"
      },
      "source": [
        "# Evaluation of Results\n",
        "This model has about a 67% validation accuracy and about a 62% training accuracy.  The validation loss is about .09 and the training loss is about .06.  These numbers aren't the best, but I think that they're promising for the unclean/semi-structured/incomplete data in this dataset.\n",
        "\n",
        "  Overall, considerations like month and year can be indicators of migration rates, however, things like cartel violence, war, or natural disasters can spur immigration at much larger rates than the features that were provided in this set.  Therefore, this model can be improved by expanding the dataset to include information on violent conflicts, natural disasters, etc."
      ]
    },
    {
      "cell_type": "markdown",
      "metadata": {
        "id": "sG3RsD8-KSrc",
        "colab_type": "text"
      },
      "source": [
        "# References\n",
        "1. Keras Losses Documentation https://machinelearningmastery.com/how-to-choose-loss-functions-when-training-deep-learning-neural-networks/ \n",
        "2. Missing Migrants Project https://missingmigrants.iom.int/ \n",
        "3. Missing Migrants Dataset https://www.kaggle.com/snocco/missing-migrants-project\n",
        "4. Deep Learning: Which Loss and Activation Functions Should I Use? https://towardsdatascience.com/deep-learning-which-loss-and-activation-functions-should-i-use-ac02f1c56aa8 \n"
      ]
    }
  ]
}